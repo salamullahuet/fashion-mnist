{
 "cells": [
  {
   "cell_type": "code",
   "execution_count": 16,
   "metadata": {},
   "outputs": [],
   "source": [
    "import numpy as np\n",
    "import matplotlib.pyplot as plt\n",
    "import seaborn as sns\n",
    "from tensorflow import keras\n",
    "import pandas as pd"
   ]
  },
  {
   "cell_type": "code",
   "execution_count": null,
   "metadata": {},
   "outputs": [],
   "source": [
    "data_train_file = \"../input/fashion-mnist_train.csv\"\n",
    "data_test_file = \"../input/fashion-mnist_test.csv\"\n",
    "\n",
    "df_train = pd.read_csv(data_train_file)\n",
    "df_test = pd.read_csv(data_test_file)"
   ]
  },
  {
   "cell_type": "code",
   "execution_count": null,
   "metadata": {},
   "outputs": [],
   "source": [
    "import train test split"
   ]
  },
  {
   "cell_type": "code",
   "execution_count": null,
   "metadata": {},
   "outputs": [],
   "source": [
    "xtrain, ytarin xtest ytest = train tets split()"
   ]
  },
  {
   "cell_type": "code",
   "execution_count": null,
   "metadata": {},
   "outputs": [],
   "source": [
    "fig = plt.figure()\n",
    "for i in range(10):\n",
    "    plt.subplot(2, 5, i+1)\n",
    "    x_y = X_train[y_train == i]\n",
    "    plt.imshow(x_y[0], cmap='gray', interpolation='none')\n",
    "    plt.title(\"Class %d\" % (i))\n",
    "    plt.xticks([])\n",
    "    plt.yticks([])\n",
    "    \n",
    "plt.tight_layout()"
   ]
  },
  {
   "cell_type": "code",
   "execution_count": null,
   "metadata": {},
   "outputs": [],
   "source": [
    "for i in range(5000,5005): \n",
    "    sample = np.reshape(df_test[df_test.columns[1:]].iloc[i].values/255, (28,28))\n",
    "    plt.figure()\n",
    "    plt.title(\"labeled class {}\".format(get_label_cls(df_test[\"label\"].iloc[i])))\n",
    "    plt.imshow(sample, 'gray')"
   ]
  },
  {
   "cell_type": "code",
   "execution_count": 2,
   "metadata": {},
   "outputs": [
    {
     "name": "stdout",
     "output_type": "stream",
     "text": [
      "Downloading data from https://storage.googleapis.com/tensorflow/tf-keras-datasets/train-labels-idx1-ubyte.gz\n",
      "32768/29515 [=================================] - 0s 5us/step\n",
      "Downloading data from https://storage.googleapis.com/tensorflow/tf-keras-datasets/train-images-idx3-ubyte.gz\n",
      "26427392/26421880 [==============================] - 7s 0us/step\n",
      "Downloading data from https://storage.googleapis.com/tensorflow/tf-keras-datasets/t10k-labels-idx1-ubyte.gz\n",
      "8192/5148 [===============================================] - 0s 0s/step\n",
      "Downloading data from https://storage.googleapis.com/tensorflow/tf-keras-datasets/t10k-images-idx3-ubyte.gz\n",
      "4423680/4422102 [==============================] - 5s 1us/step\n"
     ]
    }
   ],
   "source": [
    "(X_train, Y_train), (X_test, Y_test) = keras.datasets.fashion_mnist.load_data()"
   ]
  },
  {
   "cell_type": "code",
   "execution_count": 3,
   "metadata": {},
   "outputs": [],
   "source": [
    "X_train = X_train.reshape(X_train.shape[0], 784)\n",
    "X_test = X_test.reshape(X_test.shape[0], 784)\n",
    "Y_train = Y_train.reshape(X_train.shape[0], 1)\n",
    "Y_test = Y_test.reshape(X_test.shape[0], 1)"
   ]
  },
  {
   "cell_type": "code",
   "execution_count": 4,
   "metadata": {},
   "outputs": [
    {
     "name": "stdout",
     "output_type": "stream",
     "text": [
      "X_train shape: (60000, 784)\n",
      "Y_train shape: (60000, 1)\n",
      "X_test shape: (10000, 784)\n",
      "Y_test shape: (10000, 1)\n"
     ]
    }
   ],
   "source": [
    "# Explore the dataset\n",
    "print(\"X_train shape:\", X_train.shape)\n",
    "print(\"Y_train shape:\", Y_train.shape)\n",
    "print(\"X_test shape:\", X_test.shape)\n",
    "print(\"Y_test shape:\", Y_test.shape)"
   ]
  },
  {
   "cell_type": "code",
   "execution_count": 5,
   "metadata": {},
   "outputs": [],
   "source": [
    "# normalize the xalues\n",
    "X_train = X_train/255.0\n",
    "X_test = X_test/255.0"
   ]
  },
  {
   "cell_type": "code",
   "execution_count": 8,
   "metadata": {},
   "outputs": [],
   "source": [
    "mapping = {0: 'T-shirt/top', 1: 'Trouser', 2: 'Pullover', 3: 'Dress', 4: 'Coat', 5: 'Sandal', 6: 'Shirt', 7: 'Sneaker', 8: 'Bag', 9: 'Ankle boot'}"
   ]
  },
  {
   "cell_type": "code",
   "execution_count": 9,
   "metadata": {},
   "outputs": [
    {
     "data": {
      "image/png": "[encoded data removed]",
      "text/plain": [
       "<Figure size 432x288 with 1 Axes>"
      ]
     },
     "metadata": {
      "needs_background": "light"
     },
     "output_type": "display_data"
    }
   ],
   "source": [
    "#see any image of the dataset\n",
    "i = 0\n",
    "img = X_train[i, :]\n",
    "img = img.reshape(28, 28)\n",
    "plt.imshow(255 - img, cmap = 'gray')\n",
    "plt.title(mapping[Y_train[i][0]]);"
   ]
  },
  {
   "cell_type": "code",
   "execution_count": 10,
   "metadata": {},
   "outputs": [
    {
     "name": "stderr",
     "output_type": "stream",
     "text": [
      "Using TensorFlow backend.\n"
     ]
    }
   ],
   "source": [
    "from keras.models import Sequential\n",
    "from keras.layers import Input, Dense"
   ]
  },
  {
   "cell_type": "code",
   "execution_count": 11,
   "metadata": {},
   "outputs": [],
   "source": [
    "# define the model\n",
    "model = Sequential()\n",
    "model.add(Dense(30, activation = 'relu', input_shape = (784, )))\n",
    "model.add(Dense(20, activation = 'relu'))\n",
    "model.add(Dense(10, activation = 'softmax'))"
   ]
  },
  {
   "cell_type": "code",
   "execution_count": 12,
   "metadata": {},
   "outputs": [
    {
     "name": "stdout",
     "output_type": "stream",
     "text": [
      "Model: \"sequential_1\"\n",
      "_________________________________________________________________\n",
      "Layer (type)                 Output Shape              Param #   \n",
      "=================================================================\n",
      "dense_1 (Dense)              (None, 30)                23550     \n",
      "_________________________________________________________________\n",
      "dense_2 (Dense)              (None, 20)                620       \n",
      "_________________________________________________________________\n",
      "dense_3 (Dense)              (None, 10)                210       \n",
      "=================================================================\n",
      "Total params: 24,380\n",
      "Trainable params: 24,380\n",
      "Non-trainable params: 0\n",
      "_________________________________________________________________\n"
     ]
    }
   ],
   "source": [
    "# summary of the model\n",
    "model.summary()"
   ]
  },
  {
   "cell_type": "code",
   "execution_count": 13,
   "metadata": {},
   "outputs": [],
   "source": [
    "# compile the model\n",
    "model.compile(optimizer = 'adam', loss = 'sparse_categorical_crossentropy', metrics = ['accuracy'])"
   ]
  },
  {
   "cell_type": "code",
   "execution_count": 14,
   "metadata": {},
   "outputs": [
    {
     "name": "stdout",
     "output_type": "stream",
     "text": [
      "Train on 48000 samples, validate on 12000 samples\n",
      "Epoch 1/50\n",
      "48000/48000 [==============================] - 3s 72us/step - loss: 1.1710 - accuracy: 0.5948 - val_loss: 0.6810 - val_accuracy: 0.7694\n",
      "Epoch 2/50\n",
      "48000/48000 [==============================] - 1s 19us/step - loss: 0.5971 - accuracy: 0.8019 - val_loss: 0.5367 - val_accuracy: 0.8155\n",
      "Epoch 3/50\n",
      "48000/48000 [==============================] - 1s 20us/step - loss: 0.5037 - accuracy: 0.8275 - val_loss: 0.4806 - val_accuracy: 0.8346\n",
      "Epoch 4/50\n",
      "48000/48000 [==============================] - 1s 19us/step - loss: 0.4585 - accuracy: 0.8423 - val_loss: 0.4536 - val_accuracy: 0.8379\n",
      "Epoch 5/50\n",
      "48000/48000 [==============================] - 1s 22us/step - loss: 0.4307 - accuracy: 0.8521 - val_loss: 0.4330 - val_accuracy: 0.8503\n",
      "Epoch 6/50\n",
      "48000/48000 [==============================] - 1s 19us/step - loss: 0.4138 - accuracy: 0.8553 - val_loss: 0.4217 - val_accuracy: 0.8522\n",
      "Epoch 7/50\n",
      "48000/48000 [==============================] - 1s 21us/step - loss: 0.3969 - accuracy: 0.8613 - val_loss: 0.4105 - val_accuracy: 0.8583\n",
      "Epoch 8/50\n",
      "48000/48000 [==============================] - 1s 20us/step - loss: 0.3900 - accuracy: 0.8636 - val_loss: 0.4017 - val_accuracy: 0.8594\n",
      "Epoch 9/50\n",
      "48000/48000 [==============================] - 1s 20us/step - loss: 0.3762 - accuracy: 0.8687 - val_loss: 0.3946 - val_accuracy: 0.8620\n",
      "Epoch 10/50\n",
      "48000/48000 [==============================] - 1s 19us/step - loss: 0.3656 - accuracy: 0.8718 - val_loss: 0.3921 - val_accuracy: 0.8613\n",
      "Epoch 11/50\n",
      "48000/48000 [==============================] - 1s 19us/step - loss: 0.3590 - accuracy: 0.8729 - val_loss: 0.3809 - val_accuracy: 0.8684\n",
      "Epoch 12/50\n",
      "48000/48000 [==============================] - 1s 17us/step - loss: 0.3519 - accuracy: 0.8759 - val_loss: 0.3805 - val_accuracy: 0.8639\n",
      "Epoch 13/50\n",
      "48000/48000 [==============================] - 1s 19us/step - loss: 0.3454 - accuracy: 0.8784 - val_loss: 0.3844 - val_accuracy: 0.8654\n",
      "Epoch 14/50\n",
      "48000/48000 [==============================] - 1s 24us/step - loss: 0.3398 - accuracy: 0.8793 - val_loss: 0.3765 - val_accuracy: 0.8665\n",
      "Epoch 15/50\n",
      "48000/48000 [==============================] - 1s 20us/step - loss: 0.3358 - accuracy: 0.8806 - val_loss: 0.3693 - val_accuracy: 0.8704\n",
      "Epoch 16/50\n",
      "48000/48000 [==============================] - 1s 18us/step - loss: 0.3320 - accuracy: 0.8813 - val_loss: 0.3798 - val_accuracy: 0.8677\n",
      "Epoch 17/50\n",
      "48000/48000 [==============================] - 1s 18us/step - loss: 0.3243 - accuracy: 0.8835 - val_loss: 0.3689 - val_accuracy: 0.8696\n",
      "Epoch 18/50\n",
      "48000/48000 [==============================] - 1s 17us/step - loss: 0.3199 - accuracy: 0.8845 - val_loss: 0.3622 - val_accuracy: 0.8713\n",
      "Epoch 19/50\n",
      "48000/48000 [==============================] - 1s 18us/step - loss: 0.3176 - accuracy: 0.8861 - val_loss: 0.3608 - val_accuracy: 0.8727\n",
      "Epoch 20/50\n",
      "48000/48000 [==============================] - 1s 18us/step - loss: 0.3135 - accuracy: 0.8884 - val_loss: 0.3562 - val_accuracy: 0.8723\n",
      "Epoch 21/50\n",
      "48000/48000 [==============================] - 1s 19us/step - loss: 0.3105 - accuracy: 0.8900 - val_loss: 0.3620 - val_accuracy: 0.8729\n",
      "Epoch 22/50\n",
      "48000/48000 [==============================] - 1s 19us/step - loss: 0.3085 - accuracy: 0.8903 - val_loss: 0.3552 - val_accuracy: 0.8747\n",
      "Epoch 23/50\n",
      "48000/48000 [==============================] - 1s 17us/step - loss: 0.3035 - accuracy: 0.8912 - val_loss: 0.3655 - val_accuracy: 0.8724\n",
      "Epoch 24/50\n",
      "48000/48000 [==============================] - 1s 17us/step - loss: 0.3037 - accuracy: 0.8914 - val_loss: 0.3563 - val_accuracy: 0.8748\n",
      "Epoch 25/50\n",
      "48000/48000 [==============================] - 1s 18us/step - loss: 0.3011 - accuracy: 0.8923 - val_loss: 0.3507 - val_accuracy: 0.8758\n",
      "Epoch 26/50\n",
      "48000/48000 [==============================] - 1s 17us/step - loss: 0.2984 - accuracy: 0.8935 - val_loss: 0.3561 - val_accuracy: 0.8746\n",
      "Epoch 27/50\n",
      "48000/48000 [==============================] - 1s 18us/step - loss: 0.2955 - accuracy: 0.8933 - val_loss: 0.3549 - val_accuracy: 0.8748\n",
      "Epoch 28/50\n",
      "48000/48000 [==============================] - 1s 17us/step - loss: 0.2925 - accuracy: 0.8954 - val_loss: 0.3596 - val_accuracy: 0.8748\n",
      "Epoch 29/50\n",
      "48000/48000 [==============================] - 1s 17us/step - loss: 0.2906 - accuracy: 0.8959 - val_loss: 0.3486 - val_accuracy: 0.8763\n",
      "Epoch 30/50\n",
      "48000/48000 [==============================] - 1s 18us/step - loss: 0.2861 - accuracy: 0.8980 - val_loss: 0.3509 - val_accuracy: 0.8770\n",
      "Epoch 31/50\n",
      "48000/48000 [==============================] - 1s 18us/step - loss: 0.2847 - accuracy: 0.8982 - val_loss: 0.3491 - val_accuracy: 0.8765\n",
      "Epoch 32/50\n",
      "48000/48000 [==============================] - 1s 19us/step - loss: 0.2841 - accuracy: 0.8979 - val_loss: 0.3510 - val_accuracy: 0.8762\n",
      "Epoch 33/50\n",
      "48000/48000 [==============================] - 1s 17us/step - loss: 0.2791 - accuracy: 0.8997 - val_loss: 0.3577 - val_accuracy: 0.8749\n",
      "Epoch 34/50\n",
      "48000/48000 [==============================] - 1s 20us/step - loss: 0.2803 - accuracy: 0.9003 - val_loss: 0.3523 - val_accuracy: 0.8759\n",
      "Epoch 35/50\n",
      "48000/48000 [==============================] - 1s 19us/step - loss: 0.2775 - accuracy: 0.8991 - val_loss: 0.3469 - val_accuracy: 0.8770\n",
      "Epoch 36/50\n",
      "48000/48000 [==============================] - 1s 18us/step - loss: 0.2765 - accuracy: 0.9005 - val_loss: 0.3485 - val_accuracy: 0.8761\n",
      "Epoch 37/50\n",
      "48000/48000 [==============================] - 1s 18us/step - loss: 0.2740 - accuracy: 0.9021 - val_loss: 0.3479 - val_accuracy: 0.8794\n",
      "Epoch 38/50\n",
      "48000/48000 [==============================] - 1s 18us/step - loss: 0.2714 - accuracy: 0.9029 - val_loss: 0.3453 - val_accuracy: 0.8789\n",
      "Epoch 39/50\n",
      "48000/48000 [==============================] - 1s 17us/step - loss: 0.2716 - accuracy: 0.9029 - val_loss: 0.3564 - val_accuracy: 0.8765\n",
      "Epoch 40/50\n",
      "48000/48000 [==============================] - 1s 22us/step - loss: 0.2682 - accuracy: 0.9042 - val_loss: 0.3496 - val_accuracy: 0.8772\n",
      "Epoch 41/50\n",
      "48000/48000 [==============================] - 1s 19us/step - loss: 0.2687 - accuracy: 0.9027 - val_loss: 0.3472 - val_accuracy: 0.8781\n",
      "Epoch 42/50\n",
      "48000/48000 [==============================] - 1s 18us/step - loss: 0.2636 - accuracy: 0.9056 - val_loss: 0.3542 - val_accuracy: 0.8768\n",
      "Epoch 43/50\n",
      "48000/48000 [==============================] - 1s 19us/step - loss: 0.2681 - accuracy: 0.9043 - val_loss: 0.3582 - val_accuracy: 0.8752\n",
      "Epoch 44/50\n",
      "48000/48000 [==============================] - 1s 21us/step - loss: 0.2621 - accuracy: 0.9065 - val_loss: 0.3494 - val_accuracy: 0.8776\n",
      "Epoch 45/50\n",
      "48000/48000 [==============================] - 1s 18us/step - loss: 0.2595 - accuracy: 0.9067 - val_loss: 0.3469 - val_accuracy: 0.8786\n",
      "Epoch 46/50\n",
      "48000/48000 [==============================] - 1s 17us/step - loss: 0.2600 - accuracy: 0.9061 - val_loss: 0.3563 - val_accuracy: 0.8754\n",
      "Epoch 47/50\n",
      "48000/48000 [==============================] - 1s 18us/step - loss: 0.2580 - accuracy: 0.9073 - val_loss: 0.3502 - val_accuracy: 0.8794\n",
      "Epoch 48/50\n",
      "48000/48000 [==============================] - 1s 18us/step - loss: 0.2588 - accuracy: 0.9067 - val_loss: 0.3494 - val_accuracy: 0.8783\n",
      "Epoch 49/50\n",
      "48000/48000 [==============================] - 1s 20us/step - loss: 0.2572 - accuracy: 0.9078 - val_loss: 0.3551 - val_accuracy: 0.8767\n",
      "Epoch 50/50\n",
      "48000/48000 [==============================] - 1s 22us/step - loss: 0.2562 - accuracy: 0.9081 - val_loss: 0.3606 - val_accuracy: 0.8768\n"
     ]
    }
   ],
   "source": [
    "history = model.fit(X_train, Y_train, epochs = 50, batch_size = 512, validation_split = 0.2)"
   ]
  },
  {
   "cell_type": "code",
   "execution_count": 15,
   "metadata": {},
   "outputs": [
    {
     "name": "stdout",
     "output_type": "stream",
     "text": [
      "60000/60000 [==============================] - 2s 29us/step\n",
      "10000/10000 [==============================] - 0s 32us/step\n",
      "Accuracy on train set is 90.256667%\n",
      "Accuracy on validation set is 86.500001%\n"
     ]
    }
   ],
   "source": [
    "# find the accuracy on train and test set\n",
    "train_loss, train_acc = model.evaluate(X_train, Y_train)\n",
    "test_loss, test_acc = model.evaluate(X_test, Y_test)\n",
    "print(\"Accuracy on train set is %f\" %(train_acc * 100)  + \"%\")\n",
    "print(\"Accuracy on validation set is %f\" %(test_acc * 100)  + \"%\")"
   ]
  },
  {
   "cell_type": "code",
   "execution_count": null,
   "metadata": {},
   "outputs": [],
   "source": []
  }
 ],
 "metadata": {
  "kernelspec": {
   "display_name": "Python 3",
   "language": "python",
   "name": "python3"
  },
  "language_info": {
   "codemirror_mode": {
    "name": "ipython",
    "version": 3
   },
   "file_extension": ".py",
   "mimetype": "text/x-python",
   "name": "python",
   "nbconvert_exporter": "python",
   "pygments_lexer": "ipython3",
   "version": "3.7.4"
  }
 },
 "nbformat": 4,
 "nbformat_minor": 2
}
